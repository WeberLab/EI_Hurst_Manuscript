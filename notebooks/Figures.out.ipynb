{
 "cells": [
  {
   "cell_type": "markdown",
   "metadata": {},
   "source": [
    "#"
   ],
   "id": "cc2d924c-53cc-493c-98c1-6f63e6a2aca0"
  },
  {
   "cell_type": "code",
   "execution_count": 56,
   "metadata": {},
   "outputs": [],
   "source": [
    "import nilearn as nl # nilearn for loading nifti\n",
    "from nilearn.image.image import mean_img\n",
    "from nilearn.plotting import plot_epi, show\n",
    "import os\n",
    "import matplotlib.pyplot as plt\n",
    "import matplotlib.ticker as ticker\n",
    "from matplotlib.colors import ListedColormap # custom colormaps\n",
    "import matplotlib.image as mpimg # load images\n",
    "from matplotlib.gridspec import GridSpec # image grids (like patchwork)\n",
    "import numpy as np\n",
    "import nibabel as nib # nibable: loading nifti\n",
    "from nilearn import plotting # nilearn plotting\n",
    "\n",
    "from PIL import Image # image resizing"
   ],
   "id": "a37bb87c-d5c1-41de-af5e-37ed38e48f27"
  },
  {
   "cell_type": "code",
   "execution_count": 4,
   "metadata": {},
   "outputs": [],
   "source": [
    "figpath='/home/weberam2/Dropbox/AssistantProf_BCCHRI/Projects/EI_Hurst/Manuscript/images/'"
   ],
   "id": "40bf500f-981d-44f1-95b9-9614ada476ce"
  },
  {
   "cell_type": "code",
   "execution_count": 5,
   "metadata": {},
   "outputs": [],
   "source": [
    "def apply_slice_cut_to_nifti(nii_gz_path, slice_cut):\n",
    "    \"\"\"\n",
    "    Load a NIfTI image, apply a slice cut to extract a subregion, and return a new NIfTI image.\n",
    "\n",
    "    Parameters:\n",
    "    - nii_gz_path (str): Path to the input NIfTI (.nii.gz) file.\n",
    "    - slice_cut (list): Slice cut specification in the form [slice_x, slice_y, slice_z].\n",
    "\n",
    "    Returns:\n",
    "    - nibabel.Nifti1Image: New NIfTI image object containing the extracted subregion.\n",
    "    \"\"\"\n",
    "    # Load the NIfTI image\n",
    "    nii_img = nib.load(nii_gz_path)\n",
    "    nii_data = nii_img.get_fdata()\n",
    "\n",
    "    # Extract the subregion using the slice cut\n",
    "    slice_x, slice_y, slice_z = slice_cut\n",
    "    subregion_data = nii_data[slice_x, slice_y, slice_z]\n",
    "\n",
    "    # Create a new NIfTI image with the extracted subregion and original affine matrix\n",
    "    subregion_img = nib.Nifti1Image(subregion_data, nii_img.affine)\n",
    "\n",
    "    return subregion_img"
   ],
   "id": "07c6f922-ac78-41e6-bf90-2bc2187d2f08"
  },
  {
   "cell_type": "code",
   "execution_count": 6,
   "metadata": {},
   "outputs": [],
   "source": [
    "basepath='/home/weberam2/Dropbox/AssistantProf_BCCHRI/Projects/EI_Hurst/Data_from_BCCHRI/'"
   ],
   "id": "3b702757-401d-4747-9968-0df90d9e5c6b"
  },
  {
   "cell_type": "code",
   "execution_count": 58,
   "metadata": {},
   "outputs": [
    {
     "output_type": "stream",
     "name": "stderr",
     "text": [
      "/tmp/ipykernel_1578265/4113964360.py:13: FutureWarning: From release 0.13.0 onwards, this function will, by default, copy the header of the input image to the output. Currently, the header is reset to the default Nifti1Header. To suppress this warning and use the new behavior, set `copy_header=True`.\n",
      "  nii_img = nl.image.crop_img(nii_img)"
     ]
    },
    {
     "output_type": "display_data",
     "metadata": {},
     "data": {}
    }
   ],
   "source": [
    "#slice_cut = [slice(-91,60), slice(-60,51), slice(None)]\n",
    "\n",
    "nii_gz_relpath = 'derivatives/tedana/sub-Pilot10/rest/desc-optcomDenoised_bold.nii.gz'\n",
    "nii_gz_path = basepath + nii_gz_relpath\n",
    "\n",
    "nii_img = nib.load(nii_gz_path)\n",
    "nii_img = nl.image.crop_img(nii_img)\n",
    "\n",
    "overlay_relpath = 'derivatives/hurst/sub-Pilot10/rest/gm_voxel_mask_space-BOLD_rest.nii.gz'\n",
    "overlay_path = basepath + overlay_relpath\n",
    "\n",
    "overlay_img = nib.load(overlay_path)\n",
    "\n",
    "# Set the number of rows and columns for the subplot grid\n",
    "\n",
    "fmrimrsgm = plot_epi(mean_img(nii_img, \n",
    "    copy_header=True), \n",
    "    cbar_tick_format=\"%i\", \n",
    "    cmap=plt.cm.gray, \n",
    "    black_bg=False, \n",
    "    draw_cross=False,\n",
    "    annotate=True,\n",
    "    #cut_coords=(-1,-68,14),\n",
    "    cut_coords=(-1,-68,14),\n",
    "    #radiological=True,\n",
    "    figure=plt.figure(figsize=(10,4)))\n",
    "\n",
    "redcolors = ['red']\n",
    "custom_cmapred = ListedColormap(redcolors)\n",
    "\n",
    "fmrimrsgm.add_overlay(overlay_img, cmap=custom_cmapred)\n",
    "\n",
    "plt.savefig(figpath + \"SampleMask.png\", dpi=300, bbox_inches=\"tight\")\n",
    "\n",
    "plt.show()"
   ],
   "id": "cell-fig-fmrigreyvoxel"
  },
  {
   "cell_type": "code",
   "execution_count": 59,
   "metadata": {},
   "outputs": [
    {
     "output_type": "display_data",
     "metadata": {},
     "data": {}
    }
   ],
   "source": [
    "nii_gz_relpath = 'derivatives/VoxelAverage/MNI152_T1_0.5mm.nii.gz'\n",
    "nii_gz_path = basepath + nii_gz_relpath\n",
    "nii_img = nib.load(nii_gz_path)\n",
    "\n",
    "overlay_relpath = 'derivatives/VoxelAverage/Voxels_Average.nii.gz'\n",
    "overlay_path = basepath + overlay_relpath\n",
    "overlay_img = nib.load(overlay_path)\n",
    "\n",
    "averagemrs = plotting.plot_stat_map(\n",
    "    bg_img = nii_img,\n",
    "    stat_map_img = overlay_img,\n",
    "    vmin=0.00, vmax=1, \n",
    "    colorbar= True,                           \n",
    "    cbar_tick_format=\"%.2f\",\n",
    "    cmap = \"Reds\",\n",
    "    black_bg=True, \n",
    "    draw_cross=False,\n",
    "    annotate=True,\n",
    "    cut_coords=(-1,-68,14),\n",
    "    figure=plt.figure(figsize=(10,4)))\n",
    "\n",
    "plt.savefig(figpath + \"MRSVoxelAverage.png\", dpi=300, bbox_inches=\"tight\")\n",
    "\n",
    "plt.show()"
   ],
   "id": "cell-fig-mrsvoxel"
  }
 ],
 "nbformat": 4,
 "nbformat_minor": 5,
 "metadata": {}
}
