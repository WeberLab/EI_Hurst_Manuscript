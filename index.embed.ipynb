{
 "cells": [
  {
   "cell_type": "markdown",
   "metadata": {},
   "source": [
    "# Does the Brain’s E/I Balance Really Shape Long-Range Temporal\n",
    "\n",
    "Correlations?\n",
    "\n",
    "Lydia Sochan (School of Biomedical Engineering, The University of British Columbia, Vancouver, BC, Canada)  \n",
    "Alexander Mark Weber [![](data:image/png;base64,iVBORw0KGgoAAAANSUhEUgAAABAAAAAQCAYAAAAf8/9hAAAAGXRFWHRTb2Z0d2FyZQBBZG9iZSBJbWFnZVJlYWR5ccllPAAAA2ZpVFh0WE1MOmNvbS5hZG9iZS54bXAAAAAAADw/eHBhY2tldCBiZWdpbj0i77u/IiBpZD0iVzVNME1wQ2VoaUh6cmVTek5UY3prYzlkIj8+IDx4OnhtcG1ldGEgeG1sbnM6eD0iYWRvYmU6bnM6bWV0YS8iIHg6eG1wdGs9IkFkb2JlIFhNUCBDb3JlIDUuMC1jMDYwIDYxLjEzNDc3NywgMjAxMC8wMi8xMi0xNzozMjowMCAgICAgICAgIj4gPHJkZjpSREYgeG1sbnM6cmRmPSJodHRwOi8vd3d3LnczLm9yZy8xOTk5LzAyLzIyLXJkZi1zeW50YXgtbnMjIj4gPHJkZjpEZXNjcmlwdGlvbiByZGY6YWJvdXQ9IiIgeG1sbnM6eG1wTU09Imh0dHA6Ly9ucy5hZG9iZS5jb20veGFwLzEuMC9tbS8iIHhtbG5zOnN0UmVmPSJodHRwOi8vbnMuYWRvYmUuY29tL3hhcC8xLjAvc1R5cGUvUmVzb3VyY2VSZWYjIiB4bWxuczp4bXA9Imh0dHA6Ly9ucy5hZG9iZS5jb20veGFwLzEuMC8iIHhtcE1NOk9yaWdpbmFsRG9jdW1lbnRJRD0ieG1wLmRpZDo1N0NEMjA4MDI1MjA2ODExOTk0QzkzNTEzRjZEQTg1NyIgeG1wTU06RG9jdW1lbnRJRD0ieG1wLmRpZDozM0NDOEJGNEZGNTcxMUUxODdBOEVCODg2RjdCQ0QwOSIgeG1wTU06SW5zdGFuY2VJRD0ieG1wLmlpZDozM0NDOEJGM0ZGNTcxMUUxODdBOEVCODg2RjdCQ0QwOSIgeG1wOkNyZWF0b3JUb29sPSJBZG9iZSBQaG90b3Nob3AgQ1M1IE1hY2ludG9zaCI+IDx4bXBNTTpEZXJpdmVkRnJvbSBzdFJlZjppbnN0YW5jZUlEPSJ4bXAuaWlkOkZDN0YxMTc0MDcyMDY4MTE5NUZFRDc5MUM2MUUwNEREIiBzdFJlZjpkb2N1bWVudElEPSJ4bXAuZGlkOjU3Q0QyMDgwMjUyMDY4MTE5OTRDOTM1MTNGNkRBODU3Ii8+IDwvcmRmOkRlc2NyaXB0aW9uPiA8L3JkZjpSREY+IDwveDp4bXBtZXRhPiA8P3hwYWNrZXQgZW5kPSJyIj8+84NovQAAAR1JREFUeNpiZEADy85ZJgCpeCB2QJM6AMQLo4yOL0AWZETSqACk1gOxAQN+cAGIA4EGPQBxmJA0nwdpjjQ8xqArmczw5tMHXAaALDgP1QMxAGqzAAPxQACqh4ER6uf5MBlkm0X4EGayMfMw/Pr7Bd2gRBZogMFBrv01hisv5jLsv9nLAPIOMnjy8RDDyYctyAbFM2EJbRQw+aAWw/LzVgx7b+cwCHKqMhjJFCBLOzAR6+lXX84xnHjYyqAo5IUizkRCwIENQQckGSDGY4TVgAPEaraQr2a4/24bSuoExcJCfAEJihXkWDj3ZAKy9EJGaEo8T0QSxkjSwORsCAuDQCD+QILmD1A9kECEZgxDaEZhICIzGcIyEyOl2RkgwAAhkmC+eAm0TAAAAABJRU5ErkJggg==)](https://orcid.org/0000-0001-7295-0775) (School of Biomedical Engineering, The University of British Columbia, Vancouver, BC, Canada, BC Children’s Hospital Research Institute, The University of British Columbia, Vancouver, BC, Canada, Pediatrics, The University of British Columbia, Vancouver, BC, Canada)\n",
    "\n",
    "<sup>1</sup> School of Biomedical Engineering, The University of British Columbia, Vancouver, BC, Canada  \n",
    "<sup>2</sup> BC Children’s Hospital Research Institute, The University of British Columbia, Vancouver, BC, Canada  \n",
    "<sup>3</sup> Pediatrics, The University of British Columbia, Vancouver, BC, Canada\n",
    "\n",
    "<sup>✉</sup> Correspondence: [Alexander Mark Weber \\<aweber@bcchr.ca\\>](mailto:aweber@bcchr.ca)"
   ],
   "id": "f2f8f993-cd6f-4524-ad43-ff8b85a1aa3d"
  },
  {
   "cell_type": "code",
   "execution_count": null,
   "metadata": {},
   "outputs": [],
   "source": [
    "# options\n",
    "knitr::opts_chunk$set(\n",
    "  # fig.width=8, fig.height=5,\n",
    "  # out.width=\"50%\",\n",
    "  # fig.align=\"center\",\n",
    "  echo=FALSE,\n",
    "  message=FALSE,\n",
    "  warning=FALSE\n",
    "  # cache=TRUE\n",
    ")\n",
    "set.seed(1234) # reproducible\n",
    "options(knitr.kable.NA = '') # how kable handles NA\n",
    "options(reticulate.repl.quiet = TRUE)"
   ],
   "id": "e486125b-9987-4327-a6eb-d3f03d705b05"
  },
  {
   "cell_type": "code",
   "execution_count": null,
   "metadata": {},
   "outputs": [
    {
     "output_type": "stream",
     "name": "stderr",
     "text": [
      "── Attaching core tidyverse packages ──────────────────────── tidyverse 2.0.0 ──\n",
      "✔ dplyr     1.1.4     ✔ readr     2.1.5\n",
      "✔ forcats   1.0.0     ✔ stringr   1.5.1\n",
      "✔ ggplot2   3.5.1     ✔ tibble    3.2.1\n",
      "✔ lubridate 1.9.3     ✔ tidyr     1.3.1\n",
      "✔ purrr     1.0.4     \n",
      "── Conflicts ────────────────────────────────────────── tidyverse_conflicts() ──\n",
      "✖ dplyr::filter() masks stats::filter()\n",
      "✖ dplyr::lag()    masks stats::lag()\n",
      "ℹ Use the conflicted package (<http://conflicted.r-lib.org/>) to force all conflicts to become errors"
     ]
    }
   ],
   "source": [
    "#libraries\n",
    "library(tidyverse) # ggplot2, dplyr, tidyr, readr, purrr, tibble, stringr, forcats"
   ],
   "id": "ee737af4-218a-415b-9cca-b37e382e80ac"
  },
  {
   "cell_type": "code",
   "execution_count": null,
   "metadata": {},
   "outputs": [],
   "source": [
    "load(\"notebooks/results.RData\")"
   ],
   "id": "0ff36278-24bf-4a5c-839a-f422acc9b1e1"
  },
  {
   "cell_type": "markdown",
   "metadata": {},
   "source": [
    "## Abstract\n",
    "\n",
    "A 3T multimodal MRI study of healthy adults (n=19; 10 female; 21-54 years) was performed to investigate the potential link between fMRI long-range temporal correlations and excitatory/inhibitory balance. The study objective was to determine if the Hurst exponent (HE) – an estimate of the self-correlation and signal complexity of the blood-oxygen-level-dependent (BOLD) signal – is correlated with the excitatory-inhibitory (E/I) ratio. Findings in this domain have implications for neurological and neuropsychiatric conditions with disrupted E/I balance, such as autism spectrum disorder, schizophrenia, and Alzheimer’s disease. From a methodological perspective, HE is also considerably easier to accurately measure than E/I ratio. If HE can serve as a proxy for E/I, it may serve as a useful clinical biomarker for E/I imbalance. Moreover, E/I has been proposed to serve as a control parameter for brain criticality, which HE is believed to be a measure of. Thus, understanding if HE and E/I are correlated would serve to clarify this relationship. The study collected movie-watching and rest data including fMRI – which was used to calculate HE – and magnetic resonance spectroscopy (MRS) – which was used to measure inhibitory and excitatory neurotransmitters – GABA and glutamate, respectively. HE was found to increase with movie compared to rest, while E/I did not change between conditions. HE and E/I were not correlated during either movie or rest. This study represents the first attempt to investigate this connection *in vivo* in humans. We conclude that, at 3T and with our particular methodologies, no association was found.\n",
    "\n",
    "# Introduction\n",
    "\n",
    "Thirty years ago, functional magnetic resonance imaging (fMRI) profoundly changed the world of MRI by allowing real-time analysis of pressing neuropsychological questions \\[@ogawaMagneticResonanceImaging1990; @ogawaBrainMagneticResonance1990; @stephanShortHistoryCausal2012\\]. While initially used to probe task-based responses, researchers have more recently developed an interest in studying brain function at rest, known as resting-state fMRI (rs-fMRI) \\[@decoRestingBrainsNever2013\\], i.e. to understand how brain dynamics at rest are related to neurological functioning as well as individual differences. A critical tool in analyzing these dynamics is the Hurst exponent (HE) \\[@campbellMonofractalAnalysisFunctional2022\\], a measure of self-similarity derived from the blood-oxygen-dependent (BOLD) signal. HE estimates the extent to which the BOLD signal displays long-term memory, where a higher value indicates a self-similar signal with long-term positive autocorrelations \\[@campbellMonofractalAnalysisFunctional2022; @beggsBeingCriticalCriticality2012\\]. Another way of understanding HE is that a signal with high HE is fractal: similar temporal signal fluctuations are observed, no matter the time scale \\[@campbellMonofractalAnalysisFunctional2022\\].\n",
    "\n",
    "HE has also emerged as a valuable tool in clinical research, capturing changes in BOLD signal dynamics across various neuropsychiatric conditions. In aging populations for instance, HE has been found to be elevated \\[@dongHurstExponentAnalysis2018; @winkAgeCholinergicEffects2006\\]; this relationship has also been found in mild cognitive impairment and Alzheimer’s disease \\[@maximFractionalGaussianNoise2005; @longBrainnetomeAtlasBased2018\\]. Additionally, changes in HE have been observed in conditions such as autism, mood disorders, and brain injury \\[@laiShiftRandomnessBrain2010; @donaTemporalFractalAnalysis2017; @weiIdentifyingMajorDepressive2013; @jingIdentifyingCurrentRemitted2017; @donaFractalAnalysisBrain2017\\]. These differences suggest HE may reflect changes in global and local functioning.\n",
    "\n",
    "Underlying these observations is the critical brain hypothesis, which posits that the brain operates at a critical point, a state where order and disorder are perfectly balanced to enable optimal information processing \\[@decoRestingBrainsNever2013; @beggsBeingCriticalCriticality2012; @barangerChaosComplexityEntropy2000; @bassettUnderstandingComplexityHuman2011; @zimmernWhyBrainCriticality2020; @liangExcitationInhibitionBalance2024; @poilCriticalStateDynamicsAvalanches2012; @lombardiBalanceExcitationInhibition2017; @baumgartenCriticalExcitationinhibitionBalance2019; @bruiningMeasurementExcitationinhibitionRatio2020; @trakoshisIntrinsicExcitationinhibitionImbalance; @gaoInferringSynapticExcitation2017; @tianTheoreticalFoundationsStudying2022; @rubinovNeurobiologicallyRealisticDeterminants2011\\]. When operating at a critical point, the brain is maximally sensitive to external stimuli, and can dynamically transition between ordered and disordered states to promote efficient cognitive processing \\[@decoRestingBrainsNever2013; @beggsBeingCriticalCriticality2012; @tianTheoreticalFoundationsStudying2022; @rubinovNeurobiologicallyRealisticDeterminants2011\\].Recent papers suggest the control parameter underlying the brain’s ability to transition between states is the excitatory-inhibitory (E/I) ratio, the balance of excitatory and inhibitory neural activity, often operationalized as the ratio of the primary excitatory-to-inhibitory neurotransmitters, i.e. glutamate-to-GABA ratio \\[@liangExcitationInhibitionBalance2024; @lombardiBalanceExcitationInhibition2017; @baumgartenCriticalExcitationinhibitionBalance2019; @bruiningMeasurementExcitationinhibitionRatio2020; @trakoshisIntrinsicExcitationinhibitionImbalance; @gaoInferringSynapticExcitation2017\\]. It is thought that E/I controls criticality by modulating the brain’s signal-to-noise ratio \\[@liangExcitationInhibitionBalance2024; @rubensteinModelAutismIncreased2003\\].\n",
    "\n",
    "Besides the implications to the critical brain hypothesis, understanding if E/I is related to HE may allow for easier estimation of excitatory and inhibitory neurotransmitters, as accurate E/I measurement is technically challenging \\[@ajramContribution1HMagnetic2019\\]. Magnetic resonance spectroscopy (MRS) is the only non-invasive method of measuring the ratio of glutamate (excitatory) to GABA (inhibitory) *in vivo* \\[@stanleyFunctionalMagneticResonance2018\\]. Unfortunately, it has both limited spatial and temporal resolution \\[@gaoInferringSynapticExcitation2017; @ajramContribution1HMagnetic2019; @stanleyFunctionalMagneticResonance2018\\]. Consequently, if HE could serve as a proxy for E/I, it would be much easier to estimate E/I in conditions of interest such as autism, Alzheimer’s, and schizophrenia.\n",
    "\n",
    "There are a handful of studies suggesting a link between HE and E/I, however they are all either computational models or animal studies \\[@liangExcitationInhibitionBalance2024; @poilCriticalStateDynamicsAvalanches2012; @lombardiBalanceExcitationInhibition2017; @baumgartenCriticalExcitationinhibitionBalance2019; @bruiningMeasurementExcitationinhibitionRatio2020; @trakoshisIntrinsicExcitationinhibitionImbalance; @gaoInferringSynapticExcitation2017\\]. Moreover, their findings are inconsistent, with some reporting positive linear, negative linear, or U-shaped relationships between the two variables (see @tbl-lit). Thus, there is a need for further study, both to clarify the nature of a potential E/I-Hurst relationship, and also to confirm if this relationship indeed exists in the human brain. Therefore, the current study seeks to investigate the potential E/I-Hurst relationship in vivo, within the visual cortex during movie-watching and rest.\n",
    "\n",
    "| Citation | Study Type | HE Data Type | HE Calculation Method | E/I Type | E/I-Hurst Relationship |\n",
    "|------------|-------------|-------------|------------|-------------|-------------|\n",
    "| Poil et al. (2012)@poilCriticalStateDynamicsAvalanches2012 | Computational with in-house simulated model | Neuronal avalanche size | Detrendend fluctuation analysis (DFA) | Structural: number of E-to-I neurons | Inverse U |\n",
    "| Bruining et al. (2020)@bruiningMeasurementExcitationinhibitionRatio2020 | Computational with model by Poil et al. (2012); modified in-house | Neuronal oscillation amplitude | DFA | Structural: number of E-to-I synapses | Inverse U |\n",
    "| Gao et al. (2017)@gaoInferringSynapticExcitation2017 | Computational; in vivo in rats and macaques | Local field potential (LFP) | PSD | Estimated from LFP | Positive linear |\n",
    "| Lombardi et al. (2017)@lombardiBalanceExcitationInhibition2017 | Computational with in-house model | Neuronal avalanche size | PSD | Structural: number of E-to-I neurons | Negative linear |\n",
    "| Trakoshis et al. (2020)@trakoshisIntrinsicExcitationinhibitionImbalance | Computational with simulated data; in vivo in mice | fMRI BOLD signal | Wavelet-based maximum likelihood method | E-to-I synaptic conductance | Positive linear |\n",
    "\n",
    "# Methods\n",
    "\n",
    "## Study Participants\n",
    "\n",
    "Ethics approval was granted by the Clinical Research Ethics Board at the University of British Columbia and BC Children’s & Women’s Hospital (H21-02686). Written informed consent was obtained from all participants. Twenty-six participants were scanned between the ages of 21 and 53.4.\n",
    "\n",
    "After our analysis and performing quality assurance (see below), seven participants were removed for having poor quality data, leaving nineteen final participants, between the ages of 21.3 and 53.4 (mean ± sd: 30.1 ± 8.7 years; 9 males)."
   ],
   "id": "5c2c1037-b2cd-4153-ae7f-cfdfaa6b8afd"
  }
 ],
 "nbformat": 4,
 "nbformat_minor": 5,
 "metadata": {}
}
